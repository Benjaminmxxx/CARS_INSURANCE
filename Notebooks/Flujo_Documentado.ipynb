{
 "cells": [
  {
   "cell_type": "code",
   "execution_count": 284,
   "metadata": {},
   "outputs": [],
   "source": [
    "import pandas as pd\n",
    "from datetime import datetime\n",
    "import warnings\n",
    "import matplotlib.pyplot as plt\n",
    "import seaborn as sns\n",
    "from reportlab.lib.pagesizes import letter\n",
    "from reportlab.pdfgen import canvas\n",
    "warnings.filterwarnings(\"ignore\")"
   ]
  },
  {
   "cell_type": "markdown",
   "metadata": {},
   "source": [
    "### Lectura de Archivos"
   ]
  },
  {
   "cell_type": "code",
   "execution_count": 285,
   "metadata": {},
   "outputs": [],
   "source": [
    "claim=pd.read_excel('../Archivos/claim.xlsx')\n",
    "service=pd.read_excel('../Archivos/service.xlsx')\n",
    "status=pd.read_excel('../Archivos/status.xlsx')\n",
    "status_type=pd.read_excel('../Archivos/status_type.xlsx')\n",
    "status_cause=pd.read_excel('../Archivos/status_cause.xlsx')\n",
    "people=pd.read_excel('../Archivos/people.xlsx')\n",
    "dict_data=pd.read_excel('../Archivos/Diccionario de Datos.xlsx')"
   ]
  },
  {
   "cell_type": "markdown",
   "metadata": {},
   "source": [
    "### Creación de columna 'updated_day' con la fecha en formato (Y/M/D)"
   ]
  },
  {
   "cell_type": "code",
   "execution_count": 286,
   "metadata": {},
   "outputs": [],
   "source": [
    "#Obtener una columna con la fecha de su 'updated_at'\n",
    "def tiempo(archivo):\n",
    "    archivo['updated_at'] = pd.to_datetime(archivo['updated_at'], errors='coerce')\n",
    "    archivo['updated_day'] = archivo['updated_at'].dt.strftime('%Y-%m-%d').astype('period[D]')\n",
    "    return archivo"
   ]
  },
  {
   "cell_type": "code",
   "execution_count": 287,
   "metadata": {},
   "outputs": [],
   "source": [
    "claim = tiempo(claim)\n",
    "service = tiempo(service)\n",
    "status = tiempo(status)\n",
    "status_type = tiempo(status_type)\n",
    "status_cause = tiempo(status_cause)\n",
    "people = tiempo(people)"
   ]
  },
  {
   "cell_type": "markdown",
   "metadata": {},
   "source": [
    "### Función que permite calcular el amount final a un servicio que tiene coberturas que aplican según dispongamos y si aplica deducible (deductible = True)"
   ]
  },
  {
   "cell_type": "code",
   "execution_count": 288,
   "metadata": {},
   "outputs": [],
   "source": [
    "def buscar_y_actualizar(df_service, df_status, patrones, commercial_value, porcentaje_aumento):\n",
    "    '''\n",
    "    Función para modificar los valores in situ de la columna amount donde \n",
    "    aplica cobertura las coberturas que ingresemos en la lista patrones y \n",
    "    donde la columna deductible es True. \n",
    "    '''\n",
    "    # Buscar por patrones en la columna 'description' de 'status'\n",
    "    ids = []\n",
    "    for patron in patrones:\n",
    "        df_status['description'] = df_status['description'].fillna('')\n",
    "        filtro = df_status['description'].str.contains(patron, case=False, regex=True)\n",
    "        resultados = df_status[filtro].reset_index(drop=True)\n",
    "\n",
    "        # Obtener id para filtrar las columnas en la tabla 'service'\n",
    "        if not resultados.empty:\n",
    "            coverage_id = resultados['id'][0]\n",
    "            ids.append(coverage_id)\n",
    "\n",
    "    # Filtrar las filas que cumplen con el deducible y las coberturas específicas en 'service_c'\n",
    "    deducible_true_rows = df_service[(df_service['deductible'] == True) & (df_service['coverage_id'].isin(ids))]\n",
    "\n",
    "    # Calcular el aumento en la columna 'amount'\n",
    "    aumento = porcentaje_aumento * commercial_value\n",
    "    df_service.loc[deducible_true_rows.index, 'amount'] += aumento"
   ]
  },
  {
   "cell_type": "markdown",
   "metadata": {},
   "source": [
    "### Consulta 1"
   ]
  },
  {
   "cell_type": "markdown",
   "metadata": {},
   "source": [
    "¿Cuál es la siniestralidad mensual de la compañía? "
   ]
  },
  {
   "cell_type": "markdown",
   "metadata": {},
   "source": [
    "- Asumir que las primas devengadas en cada mes (ingreso mensual) corresponden a 200k pesos por mes.\n",
    "- Para los gastos de cada siniestro, usar la columna `amount` de `service`. Si el signo es negativo, indica que es un gasto, en caso contrario es un ingreso.\n",
    "- En caso de que no exista `amount` en el servicio, ignorar el servicio para el cálculo de la siniestralidad.\n",
    "- La columna `deductible` en `service` indica si hay o no que aplicarse deducible para el servicio.\n",
    "- Asumir que el deducible para las coberturas de daños materiales y robo total es de 5% sobre 100k del valor comercial del auto.\n",
    "- En caso de que el servicio no tenga cobertura asociada o status `no aplica`, hacer el análisis sin deducible."
   ]
  },
  {
   "cell_type": "markdown",
   "metadata": {},
   "source": [
    "Consideraciones tomadas:\n",
    "\n",
    "Siniestralidad se refiere a la relación entre los gastos por siniestros ocurridos durante un período específico y el total de primas o ingresos percibidos en el mismo período.\n",
    "\n",
    "Si el vehículo está asegurado con ambas coberturas y presenta un siniestro que involucra tanto robo total como daños materiales, el asegurado tendría que pagar un deducible por cada una de estas coberturas:\n",
    "\n",
    "-Deducible para robo total: Se especifica como el 5% sobre 100k del valor comercial del auto.\n",
    "\n",
    "-Deducible para daños materiales: También se especifica como el 5% sobre 100k del valor comercial del auto."
   ]
  },
  {
   "cell_type": "code",
   "execution_count": 289,
   "metadata": {},
   "outputs": [],
   "source": [
    "#Copias para no alterar las tablas para los siguientes cálculos:\n",
    "service_c=service.copy()"
   ]
  },
  {
   "cell_type": "code",
   "execution_count": 290,
   "metadata": {},
   "outputs": [],
   "source": [
    "#Quitando servicios donde no hay \"amount\":\n",
    "service_c.dropna(subset=['amount'], inplace=True)"
   ]
  },
  {
   "cell_type": "code",
   "execution_count": 291,
   "metadata": {},
   "outputs": [],
   "source": [
    "# Definir patrones, valor comercial del auto y porcentaje de la póliza.\n",
    "patrones = [\"Robo Total\", \"Daños materiales\"]\n",
    "commercial_value = 100000\n",
    "porcentaje_aumento = 0.05\n",
    "\n",
    "# Llamar a la función para buscar y actualizar en 'service_c'\n",
    "buscar_y_actualizar(service_c, status, patrones, commercial_value, porcentaje_aumento)"
   ]
  },
  {
   "cell_type": "code",
   "execution_count": 292,
   "metadata": {},
   "outputs": [],
   "source": [
    "#Sumando por mes el monto de gastos e ingresos. \n",
    "pd.options.display.float_format = '{:,.2f}'.format\n",
    "result = service_c.groupby(service_c['updated_at'].dt.to_period(\"M\")).agg({'amount': 'sum'})\n",
    "#Incorporar la columna de prima devengada\n",
    "result['primas_devengadas']=200000\n",
    "#Calculo de la Siniestralidad_Mensual\n",
    "result['Siniestralidad_Mensual']=result['amount']+result['primas_devengadas']"
   ]
  },
  {
   "cell_type": "code",
   "execution_count": 293,
   "metadata": {},
   "outputs": [
    {
     "data": {
      "text/html": [
       "<div>\n",
       "<style scoped>\n",
       "    .dataframe tbody tr th:only-of-type {\n",
       "        vertical-align: middle;\n",
       "    }\n",
       "\n",
       "    .dataframe tbody tr th {\n",
       "        vertical-align: top;\n",
       "    }\n",
       "\n",
       "    .dataframe thead th {\n",
       "        text-align: right;\n",
       "    }\n",
       "</style>\n",
       "<table border=\"1\" class=\"dataframe\">\n",
       "  <thead>\n",
       "    <tr style=\"text-align: right;\">\n",
       "      <th></th>\n",
       "      <th>amount</th>\n",
       "      <th>primas_devengadas</th>\n",
       "      <th>Siniestralidad_Mensual</th>\n",
       "    </tr>\n",
       "    <tr>\n",
       "      <th>updated_at</th>\n",
       "      <th></th>\n",
       "      <th></th>\n",
       "      <th></th>\n",
       "    </tr>\n",
       "  </thead>\n",
       "  <tbody>\n",
       "    <tr>\n",
       "      <th>2023-06</th>\n",
       "      <td>4,347,211.00</td>\n",
       "      <td>200000</td>\n",
       "      <td>4,547,211.00</td>\n",
       "    </tr>\n",
       "    <tr>\n",
       "      <th>2023-07</th>\n",
       "      <td>-64,131,564.00</td>\n",
       "      <td>200000</td>\n",
       "      <td>-63,931,564.00</td>\n",
       "    </tr>\n",
       "    <tr>\n",
       "      <th>2023-08</th>\n",
       "      <td>-270,823,091.00</td>\n",
       "      <td>200000</td>\n",
       "      <td>-270,623,091.00</td>\n",
       "    </tr>\n",
       "    <tr>\n",
       "      <th>2023-09</th>\n",
       "      <td>-288,368,385.00</td>\n",
       "      <td>200000</td>\n",
       "      <td>-288,168,385.00</td>\n",
       "    </tr>\n",
       "    <tr>\n",
       "      <th>2023-10</th>\n",
       "      <td>-3,314,836,200.00</td>\n",
       "      <td>200000</td>\n",
       "      <td>-3,314,636,200.00</td>\n",
       "    </tr>\n",
       "    <tr>\n",
       "      <th>2023-11</th>\n",
       "      <td>-689,602,689.00</td>\n",
       "      <td>200000</td>\n",
       "      <td>-689,402,689.00</td>\n",
       "    </tr>\n",
       "  </tbody>\n",
       "</table>\n",
       "</div>"
      ],
      "text/plain": [
       "                      amount  primas_devengadas  Siniestralidad_Mensual\n",
       "updated_at                                                             \n",
       "2023-06         4,347,211.00             200000            4,547,211.00\n",
       "2023-07       -64,131,564.00             200000          -63,931,564.00\n",
       "2023-08      -270,823,091.00             200000         -270,623,091.00\n",
       "2023-09      -288,368,385.00             200000         -288,168,385.00\n",
       "2023-10    -3,314,836,200.00             200000       -3,314,636,200.00\n",
       "2023-11      -689,602,689.00             200000         -689,402,689.00"
      ]
     },
     "execution_count": 293,
     "metadata": {},
     "output_type": "execute_result"
    }
   ],
   "source": [
    "result"
   ]
  },
  {
   "cell_type": "markdown",
   "metadata": {},
   "source": [
    "##### Gráfico para llenar el reporte en PDF"
   ]
  },
  {
   "cell_type": "code",
   "execution_count": 294,
   "metadata": {},
   "outputs": [
    {
     "data": {
      "image/png": "[encoded data removed]",
      "text/plain": [
       "<Figure size 1000x600 with 1 Axes>"
      ]
     },
     "metadata": {},
     "output_type": "display_data"
    }
   ],
   "source": [
    "# Crear el gráfico de barras\n",
    "plt.figure(figsize=(10, 6))\n",
    "ax = result['Siniestralidad_Mensual'].plot(kind='bar', color='blue')\n",
    "\n",
    "# Personalizar el gráfico\n",
    "plt.title('Siniestralidad Mensual')\n",
    "plt.xlabel('Fecha')\n",
    "plt.ylabel('Siniestralidad Mensual')\n",
    "plt.grid(axis='y')\n",
    "\n",
    "# Mostrar las cantidades sobre las barras\n",
    "for p in ax.patches:\n",
    "    ax.annotate(f\"{p.get_height():,.2f}\", (p.get_x() + p.get_width() / 2., p.get_height()),\n",
    "                ha='center', va='center', xytext=(0, -10), textcoords='offset points')\n",
    "plt.savefig('Siniestralidad_Mensual.png')\n",
    "# Mostrar el gráfico\n",
    "plt.show()"
   ]
  },
  {
   "cell_type": "code",
   "execution_count": 295,
   "metadata": {},
   "outputs": [],
   "source": [
    "#Para usarlo en el PDF\n",
    "result['Siniestralidad_Mensual'] = result['Siniestralidad_Mensual'].apply(lambda x: f'{x:,.2f}')"
   ]
  },
  {
   "cell_type": "markdown",
   "metadata": {},
   "source": [
    "### Consulta 2"
   ]
  },
  {
   "cell_type": "markdown",
   "metadata": {},
   "source": [
    "- ¿Cuál es la cobertura con mayor y menor cantidad de siniestros?"
   ]
  },
  {
   "cell_type": "markdown",
   "metadata": {},
   "source": [
    "Consideraciones:\n",
    "Un siniestro puede tener diferentes coberturas en el mismo evento."
   ]
  },
  {
   "cell_type": "code",
   "execution_count": 296,
   "metadata": {},
   "outputs": [
    {
     "data": {
      "text/plain": [
       "(447, 22)"
      ]
     },
     "execution_count": 296,
     "metadata": {},
     "output_type": "execute_result"
    }
   ],
   "source": [
    "#De la tabla status traemos el tipo de coberturas y lo cruzamos con los diferentes\n",
    "#siniestros que tienen algún tipo de cobertura en la tabla service.\n",
    "result_=pd.merge(left=service,right=status,left_on='coverage_id',right_on='id')\n",
    "#Obtener cuantos siniestros están identificados con las coberturas:\n",
    "result_.shape"
   ]
  },
  {
   "cell_type": "code",
   "execution_count": 297,
   "metadata": {},
   "outputs": [
    {
     "data": {
      "text/html": [
       "<div>\n",
       "<style scoped>\n",
       "    .dataframe tbody tr th:only-of-type {\n",
       "        vertical-align: middle;\n",
       "    }\n",
       "\n",
       "    .dataframe tbody tr th {\n",
       "        vertical-align: top;\n",
       "    }\n",
       "\n",
       "    .dataframe thead th {\n",
       "        text-align: right;\n",
       "    }\n",
       "</style>\n",
       "<table border=\"1\" class=\"dataframe\">\n",
       "  <thead>\n",
       "    <tr style=\"text-align: right;\">\n",
       "      <th></th>\n",
       "      <th>coverage_id</th>\n",
       "      <th>name</th>\n",
       "      <th>description_y</th>\n",
       "      <th>Siniestros</th>\n",
       "    </tr>\n",
       "  </thead>\n",
       "  <tbody>\n",
       "    <tr>\n",
       "      <th>0</th>\n",
       "      <td>c2b3cdd7-2c89-4d92-aa04-6b343ad91425</td>\n",
       "      <td>DM</td>\n",
       "      <td>Daños materiales</td>\n",
       "      <td>220</td>\n",
       "    </tr>\n",
       "    <tr>\n",
       "      <th>1</th>\n",
       "      <td>d348e5c4-1e27-45ca-b261-4e72c116c957</td>\n",
       "      <td>No Aplica</td>\n",
       "      <td>Servicios que no afectan a las reservas</td>\n",
       "      <td>73</td>\n",
       "    </tr>\n",
       "    <tr>\n",
       "      <th>2</th>\n",
       "      <td>6c434f2a-d0f3-4442-b4c5-6680ec0fda6d</td>\n",
       "      <td>GM</td>\n",
       "      <td>Gastos medicos</td>\n",
       "      <td>49</td>\n",
       "    </tr>\n",
       "    <tr>\n",
       "      <th>3</th>\n",
       "      <td>fa67b067-ffdf-431b-aef5-53e60dfe6be6</td>\n",
       "      <td>RCB</td>\n",
       "      <td>Responsabilidad civil bienes</td>\n",
       "      <td>40</td>\n",
       "    </tr>\n",
       "    <tr>\n",
       "      <th>4</th>\n",
       "      <td>ca2ead83-5b81-4480-9a0b-744ba31601c0</td>\n",
       "      <td>AL</td>\n",
       "      <td>Asistencia legal</td>\n",
       "      <td>20</td>\n",
       "    </tr>\n",
       "    <tr>\n",
       "      <th>5</th>\n",
       "      <td>ed22aeaf-8623-4d4d-ad59-106a774ed9a5</td>\n",
       "      <td>AV</td>\n",
       "      <td>Asistencia vial</td>\n",
       "      <td>19</td>\n",
       "    </tr>\n",
       "    <tr>\n",
       "      <th>6</th>\n",
       "      <td>42d81165-f6f7-4c0d-b33b-999a3f3ee905</td>\n",
       "      <td>RCP</td>\n",
       "      <td>Responsabilidad civil personas</td>\n",
       "      <td>18</td>\n",
       "    </tr>\n",
       "    <tr>\n",
       "      <th>7</th>\n",
       "      <td>fc9e6248-5746-4480-a9d0-d683cb6a6c10</td>\n",
       "      <td>RT</td>\n",
       "      <td>Robo total</td>\n",
       "      <td>8</td>\n",
       "    </tr>\n",
       "  </tbody>\n",
       "</table>\n",
       "</div>"
      ],
      "text/plain": [
       "                            coverage_id       name  \\\n",
       "0  c2b3cdd7-2c89-4d92-aa04-6b343ad91425         DM   \n",
       "1  d348e5c4-1e27-45ca-b261-4e72c116c957  No Aplica   \n",
       "2  6c434f2a-d0f3-4442-b4c5-6680ec0fda6d         GM   \n",
       "3  fa67b067-ffdf-431b-aef5-53e60dfe6be6        RCB   \n",
       "4  ca2ead83-5b81-4480-9a0b-744ba31601c0         AL   \n",
       "5  ed22aeaf-8623-4d4d-ad59-106a774ed9a5         AV   \n",
       "6  42d81165-f6f7-4c0d-b33b-999a3f3ee905        RCP   \n",
       "7  fc9e6248-5746-4480-a9d0-d683cb6a6c10         RT   \n",
       "\n",
       "                             description_y  Siniestros  \n",
       "0                         Daños materiales         220  \n",
       "1  Servicios que no afectan a las reservas          73  \n",
       "2                           Gastos medicos          49  \n",
       "3             Responsabilidad civil bienes          40  \n",
       "4                         Asistencia legal          20  \n",
       "5                          Asistencia vial          19  \n",
       "6           Responsabilidad civil personas          18  \n",
       "7                               Robo total           8  "
      ]
     },
     "execution_count": 297,
     "metadata": {},
     "output_type": "execute_result"
    }
   ],
   "source": [
    "#Agrupar por tipo de cobertura y sumar los siniestros.\n",
    "result_=result_.groupby(['coverage_id', 'name', 'description_y']).size().reset_index(name='Siniestros').sort_values('Siniestros',ascending=False)\n",
    "result_=result_.reset_index(drop=True)\n",
    "result_"
   ]
  },
  {
   "cell_type": "code",
   "execution_count": 298,
   "metadata": {},
   "outputs": [
    {
     "name": "stdout",
     "output_type": "stream",
     "text": [
      "Mayor Cantidad:\n",
      "                             coverage_id name     description_y  Siniestros\n",
      "0  c2b3cdd7-2c89-4d92-aa04-6b343ad91425   DM  Daños materiales         220\n",
      "\n",
      "Menor Cantidad:\n",
      "                             coverage_id name description_y  Siniestros\n",
      "7  fc9e6248-5746-4480-a9d0-d683cb6a6c10   RT    Robo total           8\n"
     ]
    }
   ],
   "source": [
    "mayor_cantidad_siniestros=result_[result_['Siniestros'] == result_['Siniestros'].max()]\n",
    "menor_cantidad_siniestros=result_[result_['Siniestros'] == result_['Siniestros'].min()]\n",
    "print('Mayor Cantidad:\\n',mayor_cantidad_siniestros)\n",
    "print('\\nMenor Cantidad:\\n',menor_cantidad_siniestros)"
   ]
  },
  {
   "cell_type": "markdown",
   "metadata": {},
   "source": [
    "##### Gráfico para llenar el reporte en PDF"
   ]
  },
  {
   "cell_type": "code",
   "execution_count": 299,
   "metadata": {},
   "outputs": [
    {
     "data": {
      "image/png": "[encoded data removed]",
      "text/plain": [
       "<Figure size 1000x600 with 1 Axes>"
      ]
     },
     "metadata": {},
     "output_type": "display_data"
    }
   ],
   "source": [
    "# Crear la gráfica de barras horizontales\n",
    "plt.figure(figsize=(10, 6))\n",
    "ax=sns.barplot(x='Siniestros', y='name', data=result_, hue='description_y')\n",
    "\n",
    "# Añadir etiquetas y título\n",
    "plt.xlabel('Siniestros')\n",
    "plt.ylabel('Cobertura (Name)')\n",
    "plt.title('Siniestros por Cobertura')\n",
    "\n",
    "# Mostrar la leyenda\n",
    "plt.legend(title='Descripción')\n",
    "# Añadir números a cada barra\n",
    "\n",
    "for p in ax.patches:\n",
    "    ax.annotate(f'{p.get_width()}', (p.get_x() + p.get_width() + 5, p.get_y() + p.get_height() / 2), ha='center', va='center')\n",
    "#Save\n",
    "\n",
    "plt.savefig('Siniestros.png')\n",
    "# Mostrar la gráfica\n",
    "plt.show()"
   ]
  },
  {
   "cell_type": "markdown",
   "metadata": {},
   "source": [
    "### Consulta 3"
   ]
  },
  {
   "cell_type": "markdown",
   "metadata": {},
   "source": [
    "- ¿Cuál es el partner con mayor y menor siniestralidad? \n",
    "    - Asumir que el deducible para las coberturas de daños materiales y robo total es de 5% sobre 100k del valor comercial del auto.\n",
    "    - El partner se puede identificar con las primeras dos letras de `policy_number` dentro de `claim`,  por ejemplo \"KV\", “AE”, “IT”, etc."
   ]
  },
  {
   "cell_type": "markdown",
   "metadata": {},
   "source": [
    "Consideraciones: \n",
    "-Siniestralidad se refiere a la relación entre los gastos por siniestros ocurridos durante un período específico y el total de primas o ingresos percibidos en el mismo período.\n",
    "\n",
    "-Se excluyen los servicios con monto cero (después de verificar si aplica un deducible por la cobertura o no). La siniestralidad se está evaluando en términos de costos reales para CRABI, por lo que centrarse solo en los servicios que generan costos da una visión más precisa de la siniestralidad."
   ]
  },
  {
   "cell_type": "markdown",
   "metadata": {},
   "source": [
    "Ya que no hay conexión directa entre id's de las tablas \"claim\" (policy_number) y \"service\" (amount) se relacionan con el identificador de la tabla \"people\" por lo que se hará una unión entre las tablas people(claim_id) y claim (id), para después poder usar los identificadores de policy_number, con la tabla service."
   ]
  },
  {
   "cell_type": "code",
   "execution_count": 300,
   "metadata": {},
   "outputs": [],
   "source": [
    "service_c1=service.copy()\n",
    "service_c1.dropna(subset=['amount'], inplace=True)\n",
    "service_c1=service_c1.reset_index(drop=True)"
   ]
  },
  {
   "cell_type": "code",
   "execution_count": 301,
   "metadata": {},
   "outputs": [
    {
     "data": {
      "text/plain": [
       "(452, 59)"
      ]
     },
     "execution_count": 301,
     "metadata": {},
     "output_type": "execute_result"
    }
   ],
   "source": [
    "#Unión de Tablas\n",
    "merged_df = pd.merge(left=claim, right=people, left_on='id', right_on='claim_id')\n",
    "result_merge=pd.merge(left=service_c1,right=merged_df,left_on='people_id',right_on='id_y')\n",
    "result_merge.shape"
   ]
  },
  {
   "cell_type": "code",
   "execution_count": 302,
   "metadata": {},
   "outputs": [],
   "source": [
    "# Definir patrones, valor comercial del auto y porcentaje de la póliza.\n",
    "patrones2 = [\"Robo Total\", \"Daños materiales\"]\n",
    "commercial_value2 = 100000\n",
    "porcentaje_aumento2 = 0.05\n",
    "\n",
    "# Llamar a la función para buscar y actualizar en 'result_merge'\n",
    "buscar_y_actualizar(result_merge, status, patrones2, commercial_value2, porcentaje_aumento2)"
   ]
  },
  {
   "cell_type": "code",
   "execution_count": 303,
   "metadata": {},
   "outputs": [],
   "source": [
    "#Realizando la suma del costo de los siniestros agrupados por el identificador de póliza\n",
    "#El siniestro tiene un partner asignado hasta su cierre, por lo que se puedo realizar la\n",
    "#suma de los siniestros directamente.\n",
    "result2 = result_merge.groupby(result_merge['policy_number'].str.slice(0, 2)).agg({'amount': 'sum'})\n",
    "result2.sort_values('amount',ascending=False,inplace=True)"
   ]
  },
  {
   "cell_type": "code",
   "execution_count": 304,
   "metadata": {},
   "outputs": [
    {
     "data": {
      "text/html": [
       "<div>\n",
       "<style scoped>\n",
       "    .dataframe tbody tr th:only-of-type {\n",
       "        vertical-align: middle;\n",
       "    }\n",
       "\n",
       "    .dataframe tbody tr th {\n",
       "        vertical-align: top;\n",
       "    }\n",
       "\n",
       "    .dataframe thead th {\n",
       "        text-align: right;\n",
       "    }\n",
       "</style>\n",
       "<table border=\"1\" class=\"dataframe\">\n",
       "  <thead>\n",
       "    <tr style=\"text-align: right;\">\n",
       "      <th></th>\n",
       "      <th>amount</th>\n",
       "    </tr>\n",
       "    <tr>\n",
       "      <th>policy_number</th>\n",
       "      <th></th>\n",
       "    </tr>\n",
       "  </thead>\n",
       "  <tbody>\n",
       "    <tr>\n",
       "      <th>WO</th>\n",
       "      <td>-1,200,080.00</td>\n",
       "    </tr>\n",
       "    <tr>\n",
       "      <th>DA</th>\n",
       "      <td>-20,232,068.00</td>\n",
       "    </tr>\n",
       "    <tr>\n",
       "      <th>CH</th>\n",
       "      <td>-27,180,598.00</td>\n",
       "    </tr>\n",
       "    <tr>\n",
       "      <th>SE</th>\n",
       "      <td>-40,581,751.00</td>\n",
       "    </tr>\n",
       "    <tr>\n",
       "      <th>KV</th>\n",
       "      <td>-117,466,114.00</td>\n",
       "    </tr>\n",
       "    <tr>\n",
       "      <th>IT</th>\n",
       "      <td>-1,868,809,582.00</td>\n",
       "    </tr>\n",
       "    <tr>\n",
       "      <th>AE</th>\n",
       "      <td>-2,547,944,525.00</td>\n",
       "    </tr>\n",
       "  </tbody>\n",
       "</table>\n",
       "</div>"
      ],
      "text/plain": [
       "                         amount\n",
       "policy_number                  \n",
       "WO                -1,200,080.00\n",
       "DA               -20,232,068.00\n",
       "CH               -27,180,598.00\n",
       "SE               -40,581,751.00\n",
       "KV              -117,466,114.00\n",
       "IT            -1,868,809,582.00\n",
       "AE            -2,547,944,525.00"
      ]
     },
     "execution_count": 304,
     "metadata": {},
     "output_type": "execute_result"
    }
   ],
   "source": [
    "result2"
   ]
  },
  {
   "cell_type": "markdown",
   "metadata": {},
   "source": [
    "##### Gráfico para llenar el reporte en PDF"
   ]
  },
  {
   "cell_type": "code",
   "execution_count": 305,
   "metadata": {},
   "outputs": [
    {
     "data": {
      "image/png": "[encoded data removed]",
      "text/plain": [
       "<Figure size 1000x600 with 1 Axes>"
      ]
     },
     "metadata": {},
     "output_type": "display_data"
    }
   ],
   "source": [
    "# Crear el gráfico de barras\n",
    "plt.figure(figsize=(10, 6))\n",
    "ax = result2['amount'].plot(kind='bar', color='blue')\n",
    "\n",
    "# Personalizar el gráfico\n",
    "plt.title('Siniestralidad por partner')\n",
    "plt.xlabel('Partner')\n",
    "plt.ylabel('Cantidad')\n",
    "plt.grid(axis='y')\n",
    "\n",
    "# Mostrar las cantidades sobre las barras\n",
    "for p in ax.patches:\n",
    "    ax.annotate(f\"{p.get_height():,.2f}\", (p.get_x() + p.get_width() / 2., p.get_height()),\n",
    "                ha='center', va='center', xytext=(0, -10), textcoords='offset points')\n",
    "plt.savefig('Siniestralidad_Partner.png')\n",
    "# Mostrar el gráfico\n",
    "plt.show()"
   ]
  },
  {
   "cell_type": "code",
   "execution_count": 306,
   "metadata": {},
   "outputs": [],
   "source": [
    "#Para usarlo en el PDF\n",
    "menor_sinestrialidad=result2.head(1)\n",
    "mayor_sinestrialidad=result2.tail(1)"
   ]
  },
  {
   "cell_type": "markdown",
   "metadata": {},
   "source": [
    "#### Consulta 3.1"
   ]
  },
  {
   "cell_type": "markdown",
   "metadata": {},
   "source": [
    "¿cuál es su severidad promedio?"
   ]
  },
  {
   "cell_type": "markdown",
   "metadata": {},
   "source": [
    "- Asumir que el deducible para las coberturas de daños materiales y robo total es de 5% sobre 100k del valor comercial del auto."
   ]
  },
  {
   "cell_type": "markdown",
   "metadata": {},
   "source": [
    "Consideraciones: \n",
    "\n",
    "-Severidad: es la sumatoria de todos los gastos del siniestro, después de restar los deducibles a los que aplique según las coberturas involucradas en el siniestro.\n",
    "\n",
    "-Excluir valores donde el amount sea NaN o Cero: \n",
    "\n",
    "Se toma esta postura para calcular un promedio de severidad que se centre solo en los siniestros que generan costos reales. Esto da un promedio más específico en términos de costos financieros directos asociados a los siniestros por tipo de partner.\n",
    "\n",
    "Entonces ¿Cómo se calculara la \"severidad promedio\" por partner?, esto sería la suma de todos los gastos del siniestro asociados con un tipo de partner, por lo que no se deben tomar en cuenta servicios con \"amount\" igual a 0 o NaN, porque no representan un gasto pero si puede afectar el promedio obtenido.\n",
    "\n",
    "Sev_Prom_Por_Partner= Σ n Sev_Por_Siniestro_Asociado_al_Partner / Siniestros_Asociados_al_Partner\n",
    "\n",
    "n=Partners\n",
    "\n",
    "Donde:\n",
    "\n",
    "Sev_Por_Siniestro_Asociado_al_Partner = Σ n Gasto_X_Siniestro\n",
    "\n",
    "n=Siniestro_asociados_al_partner\n",
    "\n",
    "\n",
    "###### Este es un enfoque que puede modificarse a consideración de querer saber, ¿cual es el promedio de gastos por tipo de partner de acuerdo al número de servicios ofertados?"
   ]
  },
  {
   "cell_type": "code",
   "execution_count": 307,
   "metadata": {},
   "outputs": [],
   "source": [
    "#Aquí ya se tiene los gastos de siniestros con la suma del deducible aplicado \n",
    "#únicamente en coberturas de daños materiales y robo total.\n",
    "result_merge_aux=result_merge.copy()"
   ]
  },
  {
   "cell_type": "code",
   "execution_count": 308,
   "metadata": {},
   "outputs": [],
   "source": [
    "#Eliminamos servicios con monto igual con cero para no afectar el promedio:\n",
    "result_merge_aux = result_merge_aux[result_merge_aux['amount'] != 0].reset_index(drop=True)"
   ]
  },
  {
   "cell_type": "code",
   "execution_count": 309,
   "metadata": {},
   "outputs": [],
   "source": [
    "#Nos quedamos con los identificadores de partners\n",
    "result_merge_aux['policy_number']=result_merge_aux['policy_number'].str.slice(0,2)"
   ]
  },
  {
   "cell_type": "code",
   "execution_count": 310,
   "metadata": {},
   "outputs": [
    {
     "data": {
      "text/plain": [
       "(252, 3)"
      ]
     },
     "execution_count": 310,
     "metadata": {},
     "output_type": "execute_result"
    }
   ],
   "source": [
    "#Se obtiene la suma del siniestro agrupado por people_id y su respectiva póliza.\n",
    "result_policy = result_merge_aux.groupby(['people_id', 'policy_number'])['amount'].sum().reset_index()\n",
    "result_policy.shape"
   ]
  },
  {
   "cell_type": "code",
   "execution_count": 311,
   "metadata": {},
   "outputs": [
    {
     "data": {
      "text/html": [
       "<div>\n",
       "<style scoped>\n",
       "    .dataframe tbody tr th:only-of-type {\n",
       "        vertical-align: middle;\n",
       "    }\n",
       "\n",
       "    .dataframe tbody tr th {\n",
       "        vertical-align: top;\n",
       "    }\n",
       "\n",
       "    .dataframe thead th {\n",
       "        text-align: right;\n",
       "    }\n",
       "</style>\n",
       "<table border=\"1\" class=\"dataframe\">\n",
       "  <thead>\n",
       "    <tr style=\"text-align: right;\">\n",
       "      <th></th>\n",
       "      <th>people_id</th>\n",
       "      <th>policy_number</th>\n",
       "      <th>amount</th>\n",
       "    </tr>\n",
       "  </thead>\n",
       "  <tbody>\n",
       "    <tr>\n",
       "      <th>0</th>\n",
       "      <td>0188b6c3-f2b0-7b44-99fb-0d8a80ea2b0b</td>\n",
       "      <td>CH</td>\n",
       "      <td>-217,500.00</td>\n",
       "    </tr>\n",
       "    <tr>\n",
       "      <th>1</th>\n",
       "      <td>0188d409-b46c-77e0-9458-268ea6243326</td>\n",
       "      <td>CH</td>\n",
       "      <td>222,300.00</td>\n",
       "    </tr>\n",
       "    <tr>\n",
       "      <th>2</th>\n",
       "      <td>0188d449-ef80-70e6-a2a9-f292f34c705d</td>\n",
       "      <td>KV</td>\n",
       "      <td>2,977,255.00</td>\n",
       "    </tr>\n",
       "    <tr>\n",
       "      <th>3</th>\n",
       "      <td>0188da6f-3617-7501-b61c-13d0bc6a0cc8</td>\n",
       "      <td>CH</td>\n",
       "      <td>1,212.00</td>\n",
       "    </tr>\n",
       "    <tr>\n",
       "      <th>4</th>\n",
       "      <td>0188dd2c-5b83-7e1d-b0e4-2686cbf97b8f</td>\n",
       "      <td>AE</td>\n",
       "      <td>1,003.00</td>\n",
       "    </tr>\n",
       "    <tr>\n",
       "      <th>...</th>\n",
       "      <td>...</td>\n",
       "      <td>...</td>\n",
       "      <td>...</td>\n",
       "    </tr>\n",
       "    <tr>\n",
       "      <th>247</th>\n",
       "      <td>018b8321-75fc-7f53-a73b-1dba90476bc4</td>\n",
       "      <td>AE</td>\n",
       "      <td>-1,000,000.00</td>\n",
       "    </tr>\n",
       "    <tr>\n",
       "      <th>248</th>\n",
       "      <td>018b8869-192f-7cdd-8881-f5d9c13bd20e</td>\n",
       "      <td>IT</td>\n",
       "      <td>-595,000.00</td>\n",
       "    </tr>\n",
       "    <tr>\n",
       "      <th>249</th>\n",
       "      <td>018b89e8-de6d-7d01-bf33-a79702b16b1f</td>\n",
       "      <td>AE</td>\n",
       "      <td>-685,289,600.00</td>\n",
       "    </tr>\n",
       "    <tr>\n",
       "      <th>250</th>\n",
       "      <td>018b9116-aee7-7744-9498-cb8d2f4f8aa7</td>\n",
       "      <td>KV</td>\n",
       "      <td>-495,000.00</td>\n",
       "    </tr>\n",
       "    <tr>\n",
       "      <th>251</th>\n",
       "      <td>018bb04a-849b-77af-993b-21690cad6487</td>\n",
       "      <td>KV</td>\n",
       "      <td>-1,231,200.00</td>\n",
       "    </tr>\n",
       "  </tbody>\n",
       "</table>\n",
       "<p>252 rows × 3 columns</p>\n",
       "</div>"
      ],
      "text/plain": [
       "                                people_id policy_number          amount\n",
       "0    0188b6c3-f2b0-7b44-99fb-0d8a80ea2b0b            CH     -217,500.00\n",
       "1    0188d409-b46c-77e0-9458-268ea6243326            CH      222,300.00\n",
       "2    0188d449-ef80-70e6-a2a9-f292f34c705d            KV    2,977,255.00\n",
       "3    0188da6f-3617-7501-b61c-13d0bc6a0cc8            CH        1,212.00\n",
       "4    0188dd2c-5b83-7e1d-b0e4-2686cbf97b8f            AE        1,003.00\n",
       "..                                    ...           ...             ...\n",
       "247  018b8321-75fc-7f53-a73b-1dba90476bc4            AE   -1,000,000.00\n",
       "248  018b8869-192f-7cdd-8881-f5d9c13bd20e            IT     -595,000.00\n",
       "249  018b89e8-de6d-7d01-bf33-a79702b16b1f            AE -685,289,600.00\n",
       "250  018b9116-aee7-7744-9498-cb8d2f4f8aa7            KV     -495,000.00\n",
       "251  018bb04a-849b-77af-993b-21690cad6487            KV   -1,231,200.00\n",
       "\n",
       "[252 rows x 3 columns]"
      ]
     },
     "execution_count": 311,
     "metadata": {},
     "output_type": "execute_result"
    }
   ],
   "source": [
    "result_policy"
   ]
  },
  {
   "cell_type": "code",
   "execution_count": 312,
   "metadata": {},
   "outputs": [
    {
     "data": {
      "text/plain": [
       "252"
      ]
     },
     "execution_count": 312,
     "metadata": {},
     "output_type": "execute_result"
    }
   ],
   "source": [
    "#Comprobación de que tenemos para cada 'people_id' un tipo de partner.\n",
    "result_policy['people_id'].nunique()"
   ]
  },
  {
   "cell_type": "code",
   "execution_count": 313,
   "metadata": {},
   "outputs": [],
   "source": [
    "result_pattern_avg = result_policy.groupby('policy_number')['amount'].mean().reset_index()"
   ]
  },
  {
   "cell_type": "code",
   "execution_count": 314,
   "metadata": {},
   "outputs": [
    {
     "data": {
      "text/html": [
       "<div>\n",
       "<style scoped>\n",
       "    .dataframe tbody tr th:only-of-type {\n",
       "        vertical-align: middle;\n",
       "    }\n",
       "\n",
       "    .dataframe tbody tr th {\n",
       "        vertical-align: top;\n",
       "    }\n",
       "\n",
       "    .dataframe thead th {\n",
       "        text-align: right;\n",
       "    }\n",
       "</style>\n",
       "<table border=\"1\" class=\"dataframe\">\n",
       "  <thead>\n",
       "    <tr style=\"text-align: right;\">\n",
       "      <th></th>\n",
       "      <th>policy_number</th>\n",
       "      <th>amount</th>\n",
       "    </tr>\n",
       "  </thead>\n",
       "  <tbody>\n",
       "    <tr>\n",
       "      <th>0</th>\n",
       "      <td>IT</td>\n",
       "      <td>-88,990,932.48</td>\n",
       "    </tr>\n",
       "    <tr>\n",
       "      <th>1</th>\n",
       "      <td>AE</td>\n",
       "      <td>-21,232,871.04</td>\n",
       "    </tr>\n",
       "    <tr>\n",
       "      <th>2</th>\n",
       "      <td>SE</td>\n",
       "      <td>-8,116,350.20</td>\n",
       "    </tr>\n",
       "    <tr>\n",
       "      <th>3</th>\n",
       "      <td>KV</td>\n",
       "      <td>-1,779,789.61</td>\n",
       "    </tr>\n",
       "    <tr>\n",
       "      <th>4</th>\n",
       "      <td>DA</td>\n",
       "      <td>-1,556,312.92</td>\n",
       "    </tr>\n",
       "    <tr>\n",
       "      <th>5</th>\n",
       "      <td>WO</td>\n",
       "      <td>-1,200,080.00</td>\n",
       "    </tr>\n",
       "    <tr>\n",
       "      <th>6</th>\n",
       "      <td>CH</td>\n",
       "      <td>-1,045,407.62</td>\n",
       "    </tr>\n",
       "  </tbody>\n",
       "</table>\n",
       "</div>"
      ],
      "text/plain": [
       "  policy_number         amount\n",
       "0            IT -88,990,932.48\n",
       "1            AE -21,232,871.04\n",
       "2            SE  -8,116,350.20\n",
       "3            KV  -1,779,789.61\n",
       "4            DA  -1,556,312.92\n",
       "5            WO  -1,200,080.00\n",
       "6            CH  -1,045,407.62"
      ]
     },
     "execution_count": 314,
     "metadata": {},
     "output_type": "execute_result"
    }
   ],
   "source": [
    "result_pattern_avg.sort_values('amount').reset_index(drop=True)"
   ]
  },
  {
   "cell_type": "markdown",
   "metadata": {},
   "source": [
    "##### Gráfico para llenar el reporte en PDF"
   ]
  },
  {
   "cell_type": "code",
   "execution_count": 315,
   "metadata": {},
   "outputs": [
    {
     "data": {
      "image/png": "[encoded data removed]",
      "text/plain": [
       "<Figure size 1000x600 with 1 Axes>"
      ]
     },
     "metadata": {},
     "output_type": "display_data"
    }
   ],
   "source": [
    "# Crear el gráfico de barras\n",
    "plt.figure(figsize=(10, 6))\n",
    "ax = plt.bar(result_pattern_avg['policy_number'], result_pattern_avg['amount'], color='blue')\n",
    "\n",
    "# Personalizar el gráfico\n",
    "plt.title('Severidad promedio por partner')\n",
    "plt.xlabel('Partner')\n",
    "plt.ylabel('Severidad promedio')\n",
    "plt.grid(axis='y')\n",
    "\n",
    "# Función para agregar etiquetas de valores en las barras\n",
    "def autolabel(bars):\n",
    "    for bar in bars:\n",
    "        yval = bar.get_height()\n",
    "        plt.text(bar.get_x() + bar.get_width() / 2, yval,\n",
    "                 f'{yval:,.2f}',\n",
    "                 ha='center', va='bottom' if yval > 0 else 'top', color='black')\n",
    "\n",
    "# Agregar etiquetas de valores en las barras\n",
    "autolabel(ax)\n",
    "\n",
    "# Mostrar el gráfico\n",
    "plt.savefig('Siniestralidad_Promedio_Partner.png')\n",
    "plt.show()"
   ]
  },
  {
   "cell_type": "code",
   "execution_count": 316,
   "metadata": {},
   "outputs": [],
   "source": [
    "#Para usarlo en el PDF\n",
    "prom_partner_min=result_pattern_avg[result_pattern_avg['policy_number']== menor_sinestrialidad.index[0]]\n",
    "prom_partner_min['amount'] = prom_partner_min['amount'].apply(lambda x: f'{x:,.2f}')\n",
    "prom_partner_max=result_pattern_avg[result_pattern_avg['policy_number']== mayor_sinestrialidad.index[0]]\n",
    "prom_partner_max['amount'] = prom_partner_max['amount'].apply(lambda x: f'{x:,.2f}')"
   ]
  },
  {
   "cell_type": "markdown",
   "metadata": {},
   "source": [
    "### Consulta 4"
   ]
  },
  {
   "cell_type": "markdown",
   "metadata": {},
   "source": [
    "- Utilizando los datos de la tabla `people`, ¿dentro de qué rango etario se encuentra la mayor y menor cantidad de usuarios siniestrados? "
   ]
  },
  {
   "cell_type": "markdown",
   "metadata": {},
   "source": [
    "Consideraciones:\n",
    "\n",
    "Se asignarán los siguientes rangos etarios:\n",
    "\n",
    "-Se asume que CRABI brinda seguros para personas de 18 a 70 años.\n",
    "\n",
    "18-26 años: Este grupo generalmente incluye conductores jóvenes y menos experimentados. Pueden tener tasas de accidentes más altas debido a la falta de experiencia.\n",
    "\n",
    "27-35 años:Conductores jóvenes adultos que pueden tener más experiencia que los conductores más jóvenes, pero aún pueden tener tasas de accidentes relativamente más altas.\n",
    "\n",
    "36-44 años: Adultos en la mediana edad que probablemente tengan más experiencia de conducción y podrían tener tasas de accidentes más bajas en comparación con los grupos más jóvenes.\n",
    "\n",
    "45-53 años:Conductores en la mitad de la edad laboral, con experiencia de conducción acumulada. Este grupo podría tener tasas de accidentes moderadas.\n",
    "\n",
    "54-62 años: Conductores mayores, pero aún en edad laboral. Pueden tener tasas de accidentes más bajas debido a la experiencia acumulada.\n",
    "\n",
    "63-70 años:Conductores mayores, algunos de los cuales pueden estar jubilados. Podrían tener tasas de accidentes más bajas pero podrían enfrentar desafíos de salud relacionados con la edad."
   ]
  },
  {
   "cell_type": "code",
   "execution_count": 317,
   "metadata": {},
   "outputs": [],
   "source": [
    "# Crear una copia del DataFrame\n",
    "people_c2 = people.copy()\n",
    "\n",
    "# Eliminar filas con valores nulos en la columna 'birthdate'\n",
    "people_c2 = people_c2.dropna(subset=['birthdate'])\n",
    "\n",
    "# Eliminar fechas futuras\n",
    "people_c2 = people_c2[people_c2['birthdate'] <= datetime.now()]\n",
    "\n",
    "# Calcular la edad y crear la columna 'age'\n",
    "people_c2['age'] = (datetime.now() - people_c2['birthdate']).apply(lambda x: x.days // 365.25)\n",
    "\n",
    "# Filtrar personas mayores de 18 y menores de 70 años\n",
    "people_c2 = people_c2[(people_c2['age'] > 18) & (people_c2['age'] < 70)]\n",
    "\n",
    "# Definir los rangos etarios\n",
    "bins = [18, 27, 36, 45, 54, 63, 70]\n",
    "labels = ['18-26', '27-35', '36-44', '45-53', '54-62', '63-70']\n",
    "\n",
    "# Asignar usuarios a los rangos etarios\n",
    "# Para evitar que una persona caiga en dos rangos etarios diferentes se agrega el \"right=False\", significa que un valor\n",
    "# justo en el límite superior se incluirá en el siguiente rango etario.\n",
    "\n",
    "people_c2['age_group'] = pd.cut(people_c2['age'], bins=bins,right=False,labels=labels).copy()\n",
    "\n",
    "# Agrupar por rango etario y contar usuarios siniestrados\n",
    "resultados = people_c2.groupby('age_group').size()\n",
    "\n",
    "# Filtrar los resultados donde la cantidad no es cero\n",
    "resultados = resultados[resultados != 0]"
   ]
  },
  {
   "cell_type": "code",
   "execution_count": 318,
   "metadata": {},
   "outputs": [],
   "source": [
    "# Encontrar el rango etario con la mayor y menor cantidad de usuarios siniestrados\n",
    "mayor_cantidad = resultados.idxmax()\n",
    "menor_cantidad = resultados.idxmin()"
   ]
  },
  {
   "cell_type": "code",
   "execution_count": 319,
   "metadata": {},
   "outputs": [
    {
     "data": {
      "text/plain": [
       "age_group\n",
       "18-26     70\n",
       "27-35    186\n",
       "36-44     50\n",
       "45-53    121\n",
       "54-62      1\n",
       "63-70      1\n",
       "dtype: int64"
      ]
     },
     "execution_count": 319,
     "metadata": {},
     "output_type": "execute_result"
    }
   ],
   "source": [
    "resultados"
   ]
  },
  {
   "cell_type": "markdown",
   "metadata": {},
   "source": [
    "##### Gráfico para llenar el reporte en PDF"
   ]
  },
  {
   "cell_type": "code",
   "execution_count": 320,
   "metadata": {},
   "outputs": [
    {
     "data": {
      "image/png": "[encoded data removed]",
      "text/plain": [
       "<Figure size 1000x600 with 1 Axes>"
      ]
     },
     "metadata": {},
     "output_type": "display_data"
    }
   ],
   "source": [
    "# Crear el gráfico de barras\n",
    "plt.figure(figsize=(10, 6))\n",
    "ax = resultados.plot(kind='bar', color='blue')\n",
    "\n",
    "# Personalizar el gráfico\n",
    "plt.title('Cantidad de Usuarios por Rango Etario')\n",
    "plt.xlabel('Rango de Edad')\n",
    "plt.ylabel('Usuarios')\n",
    "plt.grid(axis='y')\n",
    "\n",
    "# Mostrar las cantidades sobre las barras\n",
    "for p in ax.patches:\n",
    "    ax.annotate(f\"{p.get_height():,.2f}\", (p.get_x() + p.get_width() / 2., p.get_height()),\n",
    "                ha='center', va='center', xytext=(0, 4), textcoords='offset points')\n",
    "plt.xticks(rotation=0, ha=\"right\")\n",
    "plt.savefig('RangoEtario.png')\n",
    "\n",
    "# Mostrar el gráfico\n",
    "plt.show()"
   ]
  },
  {
   "cell_type": "markdown",
   "metadata": {},
   "source": [
    "### 4-1 ¿cuál es su severidad promedio?\n",
    "\n",
    "    - Para el calculo de la severidad, asumir que el deducible para las coberturas de daños materiales y robo total es de 5% sobre 100k del valor comercial del auto."
   ]
  },
  {
   "cell_type": "markdown",
   "metadata": {},
   "source": [
    "Consideraciones: \n",
    "Severidad es la sumatoria de todos los gastos del siniestro, después de restar los deducibles a los que aplique según las coberturas involucradas en el siniestro\n",
    "\n",
    "Se calculara la severidad promedio para los usuarios con rango etario definido, con siniestros en la tabla service, que tenga valores diferentes a NaN o Cero.\n"
   ]
  },
  {
   "cell_type": "code",
   "execution_count": 321,
   "metadata": {},
   "outputs": [],
   "source": [
    "#Unión de tablas service y people\n",
    "merge_range_et_service=pd.merge(left=service,right=people_c2,left_on='people_id',right_on='id')"
   ]
  },
  {
   "cell_type": "code",
   "execution_count": 322,
   "metadata": {},
   "outputs": [],
   "source": [
    "#Calculo de deducibles para las coberturas que aplique.\n",
    "\n",
    "# Definir patrones, valor comercial del auto y porcentaje de la póliza.\n",
    "patrones2 = [\"Robo Total\", \"Daños materiales\"]\n",
    "commercial_value2 = 100000\n",
    "porcentaje_aumento2 = 0.05\n",
    "\n",
    "# Llamar a la función para buscar y actualizar en 'result_merge'\n",
    "buscar_y_actualizar(merge_range_et_service, status, patrones2, commercial_value2, porcentaje_aumento2)"
   ]
  },
  {
   "cell_type": "code",
   "execution_count": 323,
   "metadata": {},
   "outputs": [],
   "source": [
    "#Se eliminan los valores NaN asumiendo que estos son registros que no son gastos.\n",
    "merge_range_et_service.dropna(subset=['amount'], inplace=True)"
   ]
  },
  {
   "cell_type": "code",
   "execution_count": 324,
   "metadata": {},
   "outputs": [
    {
     "data": {
      "text/plain": [
       "(263, 36)"
      ]
     },
     "execution_count": 324,
     "metadata": {},
     "output_type": "execute_result"
    }
   ],
   "source": [
    "#Cantidad de servicios\n",
    "merge_range_et_service.shape"
   ]
  },
  {
   "cell_type": "code",
   "execution_count": 325,
   "metadata": {},
   "outputs": [],
   "source": [
    "#Suma de siniestros por persona con deducibles aplicables.\n",
    "Sum_niestros=merge_range_et_service.groupby(['people_id'])['amount'].sum().reset_index()\n",
    "#Unión de la suma de siniestros  con la tabla people para tener el rango etario.\n",
    "merge_range_et_siniestros=pd.merge(left=Sum_niestros,right=people_c2,left_on='people_id',right_on='id')\n",
    "#Agrupar por rango etario y obtener el promedio.\n",
    "Promedio=merge_range_et_siniestros.groupby(['age_group'])['amount'].mean().reset_index()\n",
    "#De obtenerse valores nulos eliminarlos porque afectan al gráfico y no, nos sirven\n",
    "Promedio.dropna(inplace=True)\n",
    "#Convertir a str para poder gráficar.\n",
    "\n",
    "Promedio['age_group'] = Promedio['age_group'].astype(str)\n"
   ]
  },
  {
   "cell_type": "code",
   "execution_count": 330,
   "metadata": {},
   "outputs": [
    {
     "data": {
      "text/html": [
       "<div>\n",
       "<style scoped>\n",
       "    .dataframe tbody tr th:only-of-type {\n",
       "        vertical-align: middle;\n",
       "    }\n",
       "\n",
       "    .dataframe tbody tr th {\n",
       "        vertical-align: top;\n",
       "    }\n",
       "\n",
       "    .dataframe thead th {\n",
       "        text-align: right;\n",
       "    }\n",
       "</style>\n",
       "<table border=\"1\" class=\"dataframe\">\n",
       "  <thead>\n",
       "    <tr style=\"text-align: right;\">\n",
       "      <th></th>\n",
       "      <th>age_group</th>\n",
       "      <th>amount</th>\n",
       "    </tr>\n",
       "  </thead>\n",
       "  <tbody>\n",
       "    <tr>\n",
       "      <th>0</th>\n",
       "      <td>18-26</td>\n",
       "      <td>-1,078,611.52</td>\n",
       "    </tr>\n",
       "    <tr>\n",
       "      <th>1</th>\n",
       "      <td>27-35</td>\n",
       "      <td>-25,136,033.13</td>\n",
       "    </tr>\n",
       "    <tr>\n",
       "      <th>2</th>\n",
       "      <td>36-44</td>\n",
       "      <td>-62,171,242.40</td>\n",
       "    </tr>\n",
       "    <tr>\n",
       "      <th>3</th>\n",
       "      <td>45-53</td>\n",
       "      <td>-23,295,302.30</td>\n",
       "    </tr>\n",
       "    <tr>\n",
       "      <th>4</th>\n",
       "      <td>54-62</td>\n",
       "      <td>-5,000.00</td>\n",
       "    </tr>\n",
       "  </tbody>\n",
       "</table>\n",
       "</div>"
      ],
      "text/plain": [
       "  age_group         amount\n",
       "0     18-26  -1,078,611.52\n",
       "1     27-35 -25,136,033.13\n",
       "2     36-44 -62,171,242.40\n",
       "3     45-53 -23,295,302.30\n",
       "4     54-62      -5,000.00"
      ]
     },
     "execution_count": 330,
     "metadata": {},
     "output_type": "execute_result"
    }
   ],
   "source": [
    "Promedio"
   ]
  },
  {
   "cell_type": "markdown",
   "metadata": {},
   "source": [
    "##### Gráfico para llenar el reporte en PDF"
   ]
  },
  {
   "cell_type": "code",
   "execution_count": 331,
   "metadata": {},
   "outputs": [
    {
     "data": {
      "image/png": "[encoded data removed]",
      "text/plain": [
       "<Figure size 1000x600 with 1 Axes>"
      ]
     },
     "metadata": {},
     "output_type": "display_data"
    }
   ],
   "source": [
    "# Crear el gráfico de barras\n",
    "plt.figure(figsize=(10, 6))\n",
    "ax = plt.bar(Promedio['age_group'], Promedio['amount'], color='blue')\n",
    "\n",
    "# Personalizar el gráfico\n",
    "plt.title('Severidad promedio por Rango Etario')\n",
    "plt.xlabel('Rango')\n",
    "plt.ylabel('Severidad promedio')\n",
    "plt.grid(axis='y')\n",
    "\n",
    "# Función para agregar etiquetas de valores en las barras\n",
    "def autolabel(bars):\n",
    "    for bar in bars:\n",
    "        yval = bar.get_height()\n",
    "        plt.text(bar.get_x() + bar.get_width() / 2, yval,\n",
    "                 f'{yval:,.2f}',\n",
    "                 ha='center', va='bottom' if yval > 0 else 'top', color='black')\n",
    "\n",
    "# Agregar etiquetas de valores en las barras\n",
    "autolabel(ax)\n",
    "\n",
    "# Mostrar el gráfico\n",
    "plt.savefig('Severidad_Etario.png')\n",
    "plt.show()"
   ]
  },
  {
   "cell_type": "code",
   "execution_count": 333,
   "metadata": {},
   "outputs": [],
   "source": [
    "#Para el PDF\n",
    "Promedio['amount'] = Promedio['amount'].apply(lambda x: f'{x:,.2f}')\n",
    "rango_prom_mayor=Promedio[Promedio['age_group']==mayor_cantidad].reset_index(drop=True)\n",
    "rango_prom_mayor=f\"{rango_prom_mayor['age_group'][0]}: {rango_prom_mayor['amount'][0][0:]}\"\n",
    "rango_prom_menor=Promedio[Promedio['age_group']==menor_cantidad].reset_index()\n",
    "rango_prom_menor=f\"{rango_prom_menor['age_group'][0]}: {rango_prom_menor['amount'][0][0:]}\""
   ]
  },
  {
   "cell_type": "code",
   "execution_count": 334,
   "metadata": {},
   "outputs": [
    {
     "data": {
      "text/plain": [
       "'27-35: -25,136,033.13'"
      ]
     },
     "execution_count": 334,
     "metadata": {},
     "output_type": "execute_result"
    }
   ],
   "source": [
    "rango_prom_mayor"
   ]
  },
  {
   "cell_type": "code",
   "execution_count": 335,
   "metadata": {},
   "outputs": [
    {
     "data": {
      "text/plain": [
       "'54-62: -5,000.00'"
      ]
     },
     "execution_count": 335,
     "metadata": {},
     "output_type": "execute_result"
    }
   ],
   "source": [
    "rango_prom_menor"
   ]
  },
  {
   "cell_type": "markdown",
   "metadata": {},
   "source": [
    "### FUNCIÓN PARA LLENAR EL INFORME PDF"
   ]
  },
  {
   "cell_type": "code",
   "execution_count": 339,
   "metadata": {},
   "outputs": [],
   "source": [
    "def create_pdf(result,max_sin,min_sin,max_sines,max_prom_sev,min_sines,min_prom_sev,rango_mayor,rango_menor,rango_prom_mayor,rango_prom_menor, output_filename='informe.pdf'):\n",
    "    # Configurar el tamaño de la página (puedes cambiarlo según tus necesidades)\n",
    "    width, height = letter\n",
    "\n",
    "    # Crear el objeto PDF\n",
    "    pdf_canvas = canvas.Canvas(output_filename, pagesize=letter)\n",
    "    \n",
    "    # Configurar el título del informe\n",
    "    title = \"Informe de Resultados\"\n",
    "    pdf_canvas.setFont(\"Helvetica\", 16)\n",
    "    pdf_canvas.drawString(width / 2 - pdf_canvas.stringWidth(title, \"Helvetica\", 16) / 2, height - 50, title)\n",
    "\n",
    "    # Agregar datos al informe\n",
    "    pdf_canvas.setFont(\"Helvetica\", 12)\n",
    "    y_position = height - 80\n",
    "    \n",
    "    #Siniestralidad Mensual de la compañía\n",
    "    pdf_canvas.setFont(\"Helvetica-Bold\", 12)\n",
    "    pdf_canvas.drawString(100, y_position, \"1.-Siniestralidad Mensual de la compañía:\")\n",
    "    y_position -= 20\n",
    "    pdf_canvas.setFont(\"Helvetica\", 12)\n",
    "    for index in result.index:\n",
    "    # Imprimir el índice\n",
    "        pdf_canvas.drawString(100, y_position, f\"{index}\")\n",
    "    # Imprimir la Siniestralidad_Mensual al lado del índice\n",
    "        pdf_canvas.drawString(200, y_position, f\"{result.loc[index, 'Siniestralidad_Mensual']}\")\n",
    "        y_position -= 20\n",
    "\n",
    "    # Agregar una imagen al informe (reemplaza 'ruta_de_la_imagen' con la ruta de tu imagen)\n",
    "    imagen_path = 'Siniestralidad_Mensual.png'\n",
    "    pdf_canvas.drawInlineImage(imagen_path, 100, height - 400, width=400, height=200)\n",
    "\n",
    "    y_position = height - 440\n",
    "    #Cobertura con mayor cantidad de siniestros\n",
    "    pdf_canvas.setFont(\"Helvetica-Bold\", 12)\n",
    "    pdf_canvas.drawString(100, y_position, \"2.-Cobertura con Mayor Cantidad de Siniestros:\")\n",
    "    y_position -= 20\n",
    "    pdf_canvas.setFont(\"Helvetica\", 12)\n",
    "    # Agregar título para los resultados en paralelo\n",
    "    pdf_canvas.drawString(100, y_position, \"Nombre\")\n",
    "    pdf_canvas.drawString(170, y_position, \"Descripción\")\n",
    "    pdf_canvas.drawString(260, y_position, \"No. Siniestros\")\n",
    "    y_position -= 20\n",
    "    for index, row in max_sin.iterrows():\n",
    "        pdf_canvas.drawString(100, y_position, f\"{row['name']}\")\n",
    "        pdf_canvas.drawString(150, y_position, f\"{row['description_y']}\")\n",
    "        pdf_canvas.drawString(280, y_position, f\"{row['Siniestros']}\")\n",
    "        y_position -= 30\n",
    "    \n",
    "    y_position = height - 510\n",
    "    #Cobertura con menor cantidad de siniestros\n",
    "    pdf_canvas.setFont(\"Helvetica-Bold\", 12)\n",
    "    pdf_canvas.drawString(100, y_position, \"2.2.-Cobertura con Menor Cantidad de Siniestros:\")\n",
    "    y_position -= 20\n",
    "    pdf_canvas.setFont(\"Helvetica\", 12)\n",
    "    # Agregar título para los resultados en paralelo\n",
    "    pdf_canvas.drawString(100, y_position, \"Nombre\")\n",
    "    pdf_canvas.drawString(170, y_position, \"Descripción\")\n",
    "    pdf_canvas.drawString(260, y_position, \"No. Siniestros\")\n",
    "    y_position -= 20\n",
    "    for index, row in min_sin.iterrows():\n",
    "        pdf_canvas.drawString(100, y_position, f\"{row['name']}\")\n",
    "        pdf_canvas.drawString(170, y_position, f\"{row['description_y']}\")\n",
    "        pdf_canvas.drawString(280, y_position, f\"{row['Siniestros']}\")\n",
    "        y_position -= 30\n",
    "    \n",
    "    # Agregar una imagen al informe (reemplaza 'ruta_de_la_imagen' con la ruta de tu imagen)\n",
    "    imagen_path = 'Siniestros.png'\n",
    "    pdf_canvas.drawInlineImage(imagen_path, 100, height - 760, width=400, height=200)\n",
    "\n",
    "    pdf_canvas.showPage()\n",
    "\n",
    "    y_position = height - 100\n",
    "\n",
    "     #Mayor Siniestralidad por Partner\n",
    "    pdf_canvas.setFont(\"Helvetica-Bold\", 12)\n",
    "    pdf_canvas.drawString(100, y_position, \"3.-Partner con mayor siniestralidad:\")\n",
    "    y_position -= 20\n",
    "    pdf_canvas.setFont(\"Helvetica\", 12)\n",
    "    for index in max_sines.index:\n",
    "    # Imprimir el índice\n",
    "        pdf_canvas.drawString(100, y_position, f\"{index}\")\n",
    "    # Imprimir la Siniestralidad_Mensual al lado del índice\n",
    "        pdf_canvas.drawString(200, y_position, f\"{max_sines.loc[index, 'amount']}\")\n",
    "        y_position -= 20\n",
    "    \n",
    "        y_position = height - 140\n",
    "    #Severidad Promedio para el partner con mayor Siniestralidad\n",
    "    pdf_canvas.setFont(\"Helvetica-Bold\", 12)\n",
    "    pdf_canvas.drawString(100, y_position, \"Promedio de severidad:\")\n",
    "    pdf_canvas.setFont(\"Helvetica\", 12)\n",
    "    y_position -= 20\n",
    "    for index, row in max_prom_sev.iterrows():\n",
    "        pdf_canvas.drawString(100, y_position, f\"{row['policy_number']}\")\n",
    "        pdf_canvas.drawString(170, y_position, f\"{row['amount']}\")\n",
    "        y_position -= 30\n",
    "    \n",
    "    y_position = height - 200\n",
    "    #Menor Siniestralidad por Partner\n",
    "    pdf_canvas.setFont(\"Helvetica-Bold\", 12)\n",
    "    pdf_canvas.drawString(100, y_position, \"3.1.-Partner con menor siniestralidad:\")\n",
    "    y_position -= 20\n",
    "    pdf_canvas.setFont(\"Helvetica\", 12)\n",
    "    for index in min_sines.index:\n",
    "    # Imprimir el índice\n",
    "        pdf_canvas.drawString(100, y_position, f\"{index}\")\n",
    "    # Imprimir la Siniestralidad_Mensual al lado del índice\n",
    "        pdf_canvas.drawString(200, y_position, f\"{min_sines.loc[index, 'amount']}\")\n",
    "        y_position -= 30\n",
    "    \n",
    "        y_position = height - 250\n",
    "    #Severidad Promedio para el partner con menor Siniestralidad\n",
    "    pdf_canvas.setFont(\"Helvetica-Bold\", 12)\n",
    "    pdf_canvas.drawString(100, y_position, \"Promedio de severidad:\")\n",
    "    pdf_canvas.setFont(\"Helvetica\", 12)\n",
    "    y_position -= 20\n",
    "    for index, row in min_prom_sev.iterrows():\n",
    "        pdf_canvas.drawString(100, y_position, f\"{row['policy_number']}\")\n",
    "        pdf_canvas.drawString(170, y_position, f\"{row['amount']}\")\n",
    "        y_position -= 30\n",
    "    \n",
    "    # Agregar una imagen al informe (reemplaza 'ruta_de_la_imagen' con la ruta de tu imagen)\n",
    "    imagen_path = 'Siniestralidad_Partner.png'\n",
    "    pdf_canvas.drawInlineImage(imagen_path, 100, height - 500, width=400, height=200)\n",
    "\n",
    "    imagen_path = 'Siniestralidad_Promedio_Partner.png'\n",
    "    pdf_canvas.drawInlineImage(imagen_path, 100, height - 700, width=400, height=200)\n",
    "\n",
    "    pdf_canvas.showPage()\n",
    "\n",
    "    y_position = height - 80\n",
    "    \n",
    "    #Rango etario \n",
    "    pdf_canvas.setFont(\"Helvetica-Bold\", 12)\n",
    "    pdf_canvas.drawString(100, y_position, f\"4.-Rangos Etarios con mayor y menor cantidad de usuarios:\")\n",
    "    y_position -= 20\n",
    "    pdf_canvas.setFont(\"Helvetica\", 12)\n",
    "    pdf_canvas.drawString(100, y_position, f\"Rango etario mayor : {(rango_mayor)}\")\n",
    "    y_position -= 20\n",
    "    pdf_canvas.drawString(100, y_position, f\"Rango etario menor: {(rango_menor)}\")\n",
    "    \n",
    "    imagen_path = 'RangoEtario.png'\n",
    "    pdf_canvas.drawInlineImage(imagen_path, 100, height - 350, width=400, height=200)\n",
    "    \n",
    "    y_position -= 20\n",
    "    pdf_canvas.setFont(\"Helvetica\", 12)\n",
    "\n",
    "    y_position = height - 380\n",
    "    #Severidad Promedio para el partner con menor Siniestralidad\n",
    "    pdf_canvas.setFont(\"Helvetica-Bold\", 12)\n",
    "    pdf_canvas.drawString(100, y_position, \"4.1.-Promedio de severidad:\")\n",
    "    y_position -= 20\n",
    "    pdf_canvas.setFont(\"Helvetica\", 12)\n",
    "    pdf_canvas.drawString(100, y_position, f\"Rango etario mayor : {(rango_prom_mayor)}\")\n",
    "    y_position -= 20\n",
    "    pdf_canvas.drawString(100, y_position, f\"Rango etario menor: {(rango_prom_menor)}\")\n",
    "    y_position -= 20\n",
    "\n",
    "    y_position = height - 500\n",
    "    \n",
    "    imagen_path = 'Severidad_Etario.png'\n",
    "    pdf_canvas.drawInlineImage(imagen_path, 100, height - 650, width=400, height=200)\n",
    "    \n",
    "    # Guardar el PDF\n",
    "    pdf_canvas.save()\n",
    "\n",
    "# Llamar a la función para crear el informe PDF\n",
    "create_pdf(result,mayor_cantidad_siniestros,menor_cantidad_siniestros,mayor_sinestrialidad,prom_partner_max,menor_sinestrialidad,prom_partner_min,mayor_cantidad,menor_cantidad,rango_prom_mayor,rango_prom_menor)"
   ]
  }
 ],
 "metadata": {
  "kernelspec": {
   "display_name": "Python 3.8.3 64-bit",
   "language": "python",
   "name": "python3"
  },
  "language_info": {
   "codemirror_mode": {
    "name": "ipython",
    "version": 3
   },
   "file_extension": ".py",
   "mimetype": "text/x-python",
   "name": "python",
   "nbconvert_exporter": "python",
   "pygments_lexer": "ipython3",
   "version": "3.8.3"
  },
  "orig_nbformat": 4,
  "vscode": {
   "interpreter": {
    "hash": "aee8b7b246df8f9039afb4144a1f6fd8d2ca17a180786b69acc140d282b71a49"
   }
  }
 },
 "nbformat": 4,
 "nbformat_minor": 2
}
